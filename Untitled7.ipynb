{
 "cells": [
  {
   "cell_type": "code",
   "execution_count": 51,
   "id": "7ee7579e-7ced-48dd-bdd9-2470e1beec84",
   "metadata": {},
   "outputs": [
    {
     "name": "stdout",
     "output_type": "stream",
     "text": [
      "papaya-->grapes-->apple-->mango-->avocado-->lemon--> none\n",
      "papaya-->grapes-->apple-->mango-->avocado-->sugarcane-->lemon--> none\n",
      "papaya-->apple-->mango-->avocado-->sugarcane-->lemon--> none\n"
     ]
    }
   ],
   "source": [
    "class Node():\n",
    "    def __init__(self,data=None,next=None):\n",
    "        self.data=data\n",
    "        self.next=next\n",
    "\n",
    "class LinkedLIst():\n",
    "    def __init__(self):\n",
    "        self.head=None\n",
    "    def insert_at_beggining(self,data):\n",
    "        node=Node(data,self.head)\n",
    "        self.head=node\n",
    "    def insert_at_end(self,data):\n",
    "        if self.head is None:\n",
    "            self.head=Node(data,None)\n",
    "            return\n",
    "        current=self.head\n",
    "        while current.next:\n",
    "            current=current.next\n",
    "        current.next=Node(data,None)\n",
    "\n",
    "    def get_length(self):\n",
    "        count=0\n",
    "        current=self.head\n",
    "        while current:\n",
    "            count +=1\n",
    "            current=current.next\n",
    "        return(count)\n",
    "\n",
    "    def insert_values(self,values:list):\n",
    "        self.head=None\n",
    "        for data in values:\n",
    "            self.insert_at_end(data)\n",
    "\n",
    "    def remove_at(self, index: int):\n",
    "        if index < 0 or index >= self.get_length():\n",
    "            raise IndexError('Invalid index')\n",
    "\n",
    "        elif index==0:\n",
    "            self.head=self.head.next\n",
    "            return\n",
    "        count=0\n",
    "        current=self.head\n",
    "        while current:\n",
    "            if count==index-1:\n",
    "                current.next=current.next.next\n",
    "                break\n",
    "            current=current.next\n",
    "            count += 1\n",
    "        \n",
    "    def insert_at(self,index,data):\n",
    "        if index<0 or index >= self.get_length():\n",
    "            raise indexError('invalid index')\n",
    "            return\n",
    "        elif index==0:\n",
    "            self.insert_at_beggining()\n",
    "            return\n",
    "        count=0\n",
    "        current=self.head\n",
    "        while current:\n",
    "            if count==index-1:\n",
    "                current.next=Node(data,current.next)\n",
    "                break\n",
    "            count +=1\n",
    "            current=current.next\n",
    "    def insert_after_value(self,data_after,data_to_insert):\n",
    "        current=self.head\n",
    "        while current:\n",
    "            if current.data==data_after:\n",
    "                node=Node(data_to_insert,current.next)\n",
    "                current.next=node\n",
    "                break\n",
    "            current=current.next\n",
    "\n",
    "    def remove_by_value(self,data):\n",
    "        if data==self.head.data:\n",
    "            self.head=self.head.next\n",
    "\n",
    "        current=self.head\n",
    "        pointer=current.next\n",
    "        while pointer:\n",
    "            if data==pointer.data:\n",
    "                current.next=current.next.next\n",
    "                break\n",
    "            current=current.next\n",
    "            pointer=pointer.next\n",
    "            \n",
    "    def print(self):\n",
    "        if self.head is None:\n",
    "            print(\"empty linked list\")\n",
    "        current=self.head\n",
    "        list1=''\n",
    "        while current:\n",
    "            list1= list1 + str(current.data) + str('-->')\n",
    "            current=current.next\n",
    "        print(f'{list1} none')\n",
    "\n",
    "obj=LinkedLIst()\n",
    "values=['papaya','grapes','mango','avocado','lemon']\n",
    "obj.insert_values(values)\n",
    "obj.insert_at(2,'apple')\n",
    "obj.print()\n",
    "obj.insert_after_value('avocado','sugarcane')\n",
    "obj.print()\n",
    "obj.remove_by_value('grapes')\n",
    "obj.print()\n"
   ]
  },
  {
   "cell_type": "code",
   "execution_count": 52,
   "id": "e0abb19a-3a3e-45eb-aaa5-219217eb4058",
   "metadata": {},
   "outputs": [
    {
     "name": "stdout",
     "output_type": "stream",
     "text": [
      "Initialized empty Git repository in C:/Users/me/.git/\n"
     ]
    }
   ],
   "source": [
    "!git init\n"
   ]
  },
  {
   "cell_type": "code",
   "execution_count": null,
   "id": "d38bfda6-ab66-4955-857b-fa62847b13a7",
   "metadata": {},
   "outputs": [],
   "source": [
    "!git add your_notebook_name.ipynb"
   ]
  }
 ],
 "metadata": {
  "kernelspec": {
   "display_name": "Python 3 (ipykernel)",
   "language": "python",
   "name": "python3"
  },
  "language_info": {
   "codemirror_mode": {
    "name": "ipython",
    "version": 3
   },
   "file_extension": ".py",
   "mimetype": "text/x-python",
   "name": "python",
   "nbconvert_exporter": "python",
   "pygments_lexer": "ipython3",
   "version": "3.12.3"
  }
 },
 "nbformat": 4,
 "nbformat_minor": 5
}
